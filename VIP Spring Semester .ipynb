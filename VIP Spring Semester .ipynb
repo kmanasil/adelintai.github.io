{
 "cells": [
  {
   "cell_type": "code",
   "execution_count": 3,
   "id": "4864df0d",
   "metadata": {},
   "outputs": [
    {
     "ename": "LoadError",
     "evalue": "syntax: extra token \"IJulia\" after end of expression",
     "output_type": "error",
     "traceback": [
      "syntax: extra token \"IJulia\" after end of expression",
      "",
      "Stacktrace:",
      " [1] top-level scope",
      "   @ In[3]:1"
     ]
    }
   ],
   "source": [
    "Using IJulia:\n",
    "Using WebIO:\n"
   ]
  },
  {
   "cell_type": "code",
   "execution_count": null,
   "id": "0541444d",
   "metadata": {},
   "outputs": [],
   "source": []
  }
 ],
 "metadata": {
  "kernelspec": {
   "display_name": "Julia 1.8.0",
   "language": "julia",
   "name": "julia-1.8"
  },
  "language_info": {
   "file_extension": ".jl",
   "mimetype": "application/julia",
   "name": "julia",
   "version": "1.8.0"
  }
 },
 "nbformat": 4,
 "nbformat_minor": 5
}
