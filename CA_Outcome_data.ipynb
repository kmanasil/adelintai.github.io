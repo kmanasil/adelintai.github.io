{
 "cells": [
  {
   "cell_type": "code",
   "execution_count": 1,
   "id": "f43bb24f",
   "metadata": {},
   "outputs": [],
   "source": [
    "using CSV, DataFrames"
   ]
  },
  {
   "cell_type": "code",
   "execution_count": 68,
   "id": "c0a9b00f",
   "metadata": {
    "scrolled": true
   },
   "outputs": [
    {
     "data": {
      "text/html": [
       "<table class=\"data-frame\"><thead><tr><th></th><th>Courses</th><th>Learning Outcomes</th></tr><tr><th></th><th>String?</th><th>String?</th></tr></thead><tbody><p>45 rows × 5 columns (omitted printing of 3 columns)</p><tr><th>1</th><td>Course 1: Precalculus</td><td>MA01: Analyzing and interpreting the structure of polynomial, rational, and exponential functions.</td></tr><tr><th>2</th><td><em>missing</em></td><td>MA02: Exploring mathematical reasoning used in trigonometric functions.</td></tr><tr><th>3</th><td><em>missing</em></td><td>MA03: Demonstrating and understanding of matrices and solving systems using matrix equations.</td></tr><tr><th>4</th><td><em>missing</em></td><td>MA04: Exploring and calculating theoretical probabilities and developing a probability distribution for a random variable.</td></tr><tr><th>5</th><td><em>missing</em></td><td>MA05: Classifying conic equations and constructing graphs of conic sections.</td></tr><tr><th>6</th><td><em>missing</em></td><td><em>missing</em></td></tr><tr><th>7</th><td>Course 2: Calculus 1</td><td>MA06: Use derivatives to analyze and graph algebraic and transcendental functions</td></tr><tr><th>8</th><td><em>missing</em></td><td>MA07: Select and apply models and differentiation techniques to applications </td></tr><tr><th>9</th><td><em>missing</em></td><td>MA08: Apply the Fundamental Theorem of Calculus to evaluate integrals</td></tr><tr><th>10</th><td><em>missing</em></td><td>MA09: Use estimation techniques to approximate rates of change, area, and total change</td></tr><tr><th>11</th><td><em>missing</em></td><td><em>missing</em></td></tr><tr><th>12</th><td>Course 3: Calculus 2</td><td>MA10: Use techniques of analytical and numerical integration;</td></tr><tr><th>13</th><td><em>missing</em></td><td>MA11: Apply the definite integral to problems arising in geometry and in either physics or probability</td></tr><tr><th>14</th><td><em>missing</em></td><td>MA12: Work with the concept of infinite series and be able to calculate and use Taylor series</td></tr><tr><th>15</th><td><em>missing</em></td><td>MA13: Analyze first order differential equations from a graphical and algebraic point of view</td></tr><tr><th>16</th><td><em>missing</em></td><td><em>missing</em></td></tr><tr><th>17</th><td>Course 4: Differential Equation</td><td>MA14: Explain the concept of differential equation</td></tr><tr><th>18</th><td><em>missing</em></td><td>MA15: Solve first-order ordinary differential equations</td></tr><tr><th>19</th><td><em>missing</em></td><td>MA16: Find solution of higher-order linear differential equations. </td></tr><tr><th>20</th><td><em>missing</em></td><td>MA17: Solve systems of linear differential equations. </td></tr><tr><th>21</th><td><em>missing</em></td><td>MA18: Use the Laplace transform in finding the solution of linear differential equations. </td></tr><tr><th>22</th><td><em>missing</em></td><td><em>missing</em></td></tr><tr><th>23</th><td>Courses 5: Physics 1</td><td>PH01: Understand the concepts, laws, and principles used in mechanics and generate associations</td></tr><tr><th>24</th><td><em>missing</em></td><td>PH02: Understand different type of energy and be able to analyze related parameters in a motion system</td></tr><tr><th>25</th><td><em>missing</em></td><td>PH03: Use fundamental physical principles to understand how everyday objects work.</td></tr><tr><th>26</th><td><em>missing</em></td><td>PH04: Understand and analyze typical periodic motion system</td></tr><tr><th>27</th><td><em>missing</em></td><td><em>missing</em></td></tr><tr><th>28</th><td>Courses 6: Physics 2</td><td>PH05: Understand Coulomb's and Gauss' Laws</td></tr><tr><th>29</th><td><em>missing</em></td><td>PH06: Basic understanding of electric fields and potentials, electrical and magnetic properties of matter</td></tr><tr><th>30</th><td><em>missing</em></td><td>PH07: Use of Ampere's and Faraday's Laws to understand induced electromotive forces</td></tr><tr><th>&vellip;</th><td>&vellip;</td><td>&vellip;</td></tr></tbody></table>"
      ],
      "text/latex": [
       "\\begin{tabular}{r|ccc}\n",
       "\t& Courses & Learning Outcomes & \\\\\n",
       "\t\\hline\n",
       "\t& String? & String? & \\\\\n",
       "\t\\hline\n",
       "\t1 & Course 1: Precalculus & MA01: Analyzing and interpreting the structure of polynomial, rational, and exponential functions. & $\\dots$ \\\\\n",
       "\t2 & \\emph{missing} & MA02: Exploring mathematical reasoning used in trigonometric functions. & $\\dots$ \\\\\n",
       "\t3 & \\emph{missing} & MA03: Demonstrating and understanding of matrices and solving systems using matrix equations. & $\\dots$ \\\\\n",
       "\t4 & \\emph{missing} & MA04: Exploring and calculating theoretical probabilities and developing a probability distribution for a random variable. & $\\dots$ \\\\\n",
       "\t5 & \\emph{missing} & MA05: Classifying conic equations and constructing graphs of conic sections. & $\\dots$ \\\\\n",
       "\t6 & \\emph{missing} & \\emph{missing} & $\\dots$ \\\\\n",
       "\t7 & Course 2: Calculus 1 & MA06: Use derivatives to analyze and graph algebraic and transcendental functions & $\\dots$ \\\\\n",
       "\t8 & \\emph{missing} & MA07: Select and apply models and differentiation techniques to applications  & $\\dots$ \\\\\n",
       "\t9 & \\emph{missing} & MA08: Apply the Fundamental Theorem of Calculus to evaluate integrals & $\\dots$ \\\\\n",
       "\t10 & \\emph{missing} & MA09: Use estimation techniques to approximate rates of change, area, and total change & $\\dots$ \\\\\n",
       "\t11 & \\emph{missing} & \\emph{missing} & $\\dots$ \\\\\n",
       "\t12 & Course 3: Calculus 2 & MA10: Use techniques of analytical and numerical integration; & $\\dots$ \\\\\n",
       "\t13 & \\emph{missing} & MA11: Apply the definite integral to problems arising in geometry and in either physics or probability & $\\dots$ \\\\\n",
       "\t14 & \\emph{missing} & MA12: Work with the concept of infinite series and be able to calculate and use Taylor series & $\\dots$ \\\\\n",
       "\t15 & \\emph{missing} & MA13: Analyze first order differential equations from a graphical and algebraic point of view & $\\dots$ \\\\\n",
       "\t16 & \\emph{missing} & \\emph{missing} & $\\dots$ \\\\\n",
       "\t17 & Course 4: Differential Equation & MA14: Explain the concept of differential equation & $\\dots$ \\\\\n",
       "\t18 & \\emph{missing} & MA15: Solve first-order ordinary differential equations & $\\dots$ \\\\\n",
       "\t19 & \\emph{missing} & MA16: Find solution of higher-order linear differential equations.  & $\\dots$ \\\\\n",
       "\t20 & \\emph{missing} & MA17: Solve systems of linear differential equations.  & $\\dots$ \\\\\n",
       "\t21 & \\emph{missing} & MA18: Use the Laplace transform in finding the solution of linear differential equations.  & $\\dots$ \\\\\n",
       "\t22 & \\emph{missing} & \\emph{missing} & $\\dots$ \\\\\n",
       "\t23 & Courses 5: Physics 1 & PH01: Understand the concepts, laws, and principles used in mechanics and generate associations & $\\dots$ \\\\\n",
       "\t24 & \\emph{missing} & PH02: Understand different type of energy and be able to analyze related parameters in a motion system & $\\dots$ \\\\\n",
       "\t25 & \\emph{missing} & PH03: Use fundamental physical principles to understand how everyday objects work. & $\\dots$ \\\\\n",
       "\t26 & \\emph{missing} & PH04: Understand and analyze typical periodic motion system & $\\dots$ \\\\\n",
       "\t27 & \\emph{missing} & \\emph{missing} & $\\dots$ \\\\\n",
       "\t28 & Courses 6: Physics 2 & PH05: Understand Coulomb's and Gauss' Laws & $\\dots$ \\\\\n",
       "\t29 & \\emph{missing} & PH06: Basic understanding of electric fields and potentials, electrical and magnetic properties of matter & $\\dots$ \\\\\n",
       "\t30 & \\emph{missing} & PH07: Use of Ampere's and Faraday's Laws to understand induced electromotive forces & $\\dots$ \\\\\n",
       "\t$\\dots$ & $\\dots$ & $\\dots$ &  \\\\\n",
       "\\end{tabular}\n"
      ],
      "text/plain": [
       "45×5 DataFrame. Omitted printing of 4 columns\n",
       "│ Row │ Courses               │\n",
       "│     │ \u001b[90mString?\u001b[39m               │\n",
       "├─────┼───────────────────────┤\n",
       "│ 1   │ Course 1: Precalculus │\n",
       "│ 2   │ \u001b[90mmissing\u001b[39m               │\n",
       "│ 3   │ \u001b[90mmissing\u001b[39m               │\n",
       "│ 4   │ \u001b[90mmissing\u001b[39m               │\n",
       "│ 5   │ \u001b[90mmissing\u001b[39m               │\n",
       "│ 6   │ \u001b[90mmissing\u001b[39m               │\n",
       "│ 7   │ Course 2: Calculus 1  │\n",
       "│ 8   │ \u001b[90mmissing\u001b[39m               │\n",
       "│ 9   │ \u001b[90mmissing\u001b[39m               │\n",
       "│ 10  │ \u001b[90mmissing\u001b[39m               │\n",
       "⋮\n",
       "│ 35  │ \u001b[90mmissing\u001b[39m               │\n",
       "│ 36  │ \u001b[90mmissing\u001b[39m               │\n",
       "│ 37  │ \u001b[90mmissing\u001b[39m               │\n",
       "│ 38  │ \u001b[90mmissing\u001b[39m               │\n",
       "│ 39  │ \u001b[90mmissing\u001b[39m               │\n",
       "│ 40  │ \u001b[90mmissing\u001b[39m               │\n",
       "│ 41  │ Course 8: Circuit 2   │\n",
       "│ 42  │ \u001b[90mmissing\u001b[39m               │\n",
       "│ 43  │ \u001b[90mmissing\u001b[39m               │\n",
       "│ 44  │ \u001b[90mmissing\u001b[39m               │\n",
       "│ 45  │ \u001b[90mmissing\u001b[39m               │"
      ]
     },
     "execution_count": 68,
     "metadata": {},
     "output_type": "execute_result"
    }
   ],
   "source": [
    "df = DataFrame(CSV.File(\"./ECE pattern curriculum version 3.csv\"))\n"
   ]
  },
  {
   "cell_type": "code",
   "execution_count": 66,
   "id": "58b954fd",
   "metadata": {},
   "outputs": [
    {
     "data": {
      "text/plain": [
       "\"./Cleaned_ECE.csv\""
      ]
     },
     "execution_count": 66,
     "metadata": {},
     "output_type": "execute_result"
    }
   ],
   "source": [
    "# we are going to create a function that will put this in a workable format\n",
    "\n",
    "function create_data() \n",
    "    df = DataFrame(CSV.File(\"./ECE pattern curriculum version 3.csv\"))  \n",
    "    #the space in learning outcomes will make cleaning hard lets change it\n",
    "    rename!(df, :\"Learning Outcomes\" => \"LO\")\n",
    "     #the is a blank row of missing values between courses so lets remove those\n",
    "    dropmissing!(df, :LO)\n",
    "    #temp value to hold names for later\n",
    "    temp = \"\"\n",
    "    # create a for loop to process each row    \n",
    "    for row in eachrow(df)\n",
    "        #lets fill in the missing class        \n",
    "        if (row.Courses === missing)\n",
    "            #add course name\n",
    "            row.Courses = temp\n",
    "        else\n",
    "            # save the course name \n",
    "            temp = row.Courses            \n",
    "        end\n",
    "    end   \n",
    "    # save the cleaned frame to new CSV\n",
    "    CSV.write(\"./Cleaned_ECE.csv\", df)\n",
    "end\n",
    "    \n",
    "create_data()     "
   ]
  },
  {
   "cell_type": "code",
   "execution_count": 67,
   "id": "fc865b73",
   "metadata": {
    "scrolled": true
   },
   "outputs": [
    {
     "data": {
      "text/html": [
       "<table class=\"data-frame\"><thead><tr><th></th><th>Courses</th><th>LO</th></tr><tr><th></th><th>String</th><th>String</th></tr></thead><tbody><p>38 rows × 5 columns (omitted printing of 3 columns)</p><tr><th>1</th><td>Course 1: Precalculus</td><td>MA01: Analyzing and interpreting the structure of polynomial, rational, and exponential functions.</td></tr><tr><th>2</th><td>Course 1: Precalculus</td><td>MA02: Exploring mathematical reasoning used in trigonometric functions.</td></tr><tr><th>3</th><td>Course 1: Precalculus</td><td>MA03: Demonstrating and understanding of matrices and solving systems using matrix equations.</td></tr><tr><th>4</th><td>Course 1: Precalculus</td><td>MA04: Exploring and calculating theoretical probabilities and developing a probability distribution for a random variable.</td></tr><tr><th>5</th><td>Course 1: Precalculus</td><td>MA05: Classifying conic equations and constructing graphs of conic sections.</td></tr><tr><th>6</th><td>Course 2: Calculus 1</td><td>MA06: Use derivatives to analyze and graph algebraic and transcendental functions</td></tr><tr><th>7</th><td>Course 2: Calculus 1</td><td>MA07: Select and apply models and differentiation techniques to applications </td></tr><tr><th>8</th><td>Course 2: Calculus 1</td><td>MA08: Apply the Fundamental Theorem of Calculus to evaluate integrals</td></tr><tr><th>9</th><td>Course 2: Calculus 1</td><td>MA09: Use estimation techniques to approximate rates of change, area, and total change</td></tr><tr><th>10</th><td>Course 3: Calculus 2</td><td>MA10: Use techniques of analytical and numerical integration;</td></tr><tr><th>11</th><td>Course 3: Calculus 2</td><td>MA11: Apply the definite integral to problems arising in geometry and in either physics or probability</td></tr><tr><th>12</th><td>Course 3: Calculus 2</td><td>MA12: Work with the concept of infinite series and be able to calculate and use Taylor series</td></tr><tr><th>13</th><td>Course 3: Calculus 2</td><td>MA13: Analyze first order differential equations from a graphical and algebraic point of view</td></tr><tr><th>14</th><td>Course 4: Differential Equation</td><td>MA14: Explain the concept of differential equation</td></tr><tr><th>15</th><td>Course 4: Differential Equation</td><td>MA15: Solve first-order ordinary differential equations</td></tr><tr><th>16</th><td>Course 4: Differential Equation</td><td>MA16: Find solution of higher-order linear differential equations. </td></tr><tr><th>17</th><td>Course 4: Differential Equation</td><td>MA17: Solve systems of linear differential equations. </td></tr><tr><th>18</th><td>Course 4: Differential Equation</td><td>MA18: Use the Laplace transform in finding the solution of linear differential equations. </td></tr><tr><th>19</th><td>Courses 5: Physics 1</td><td>PH01: Understand the concepts, laws, and principles used in mechanics and generate associations</td></tr><tr><th>20</th><td>Courses 5: Physics 1</td><td>PH02: Understand different type of energy and be able to analyze related parameters in a motion system</td></tr><tr><th>21</th><td>Courses 5: Physics 1</td><td>PH03: Use fundamental physical principles to understand how everyday objects work.</td></tr><tr><th>22</th><td>Courses 5: Physics 1</td><td>PH04: Understand and analyze typical periodic motion system</td></tr><tr><th>23</th><td>Courses 6: Physics 2</td><td>PH05: Understand Coulomb's and Gauss' Laws</td></tr><tr><th>24</th><td>Courses 6: Physics 2</td><td>PH06: Basic understanding of electric fields and potentials, electrical and magnetic properties of matter</td></tr><tr><th>25</th><td>Courses 6: Physics 2</td><td>PH07: Use of Ampere's and Faraday's Laws to understand induced electromotive forces</td></tr><tr><th>26</th><td>Courses 6: Physics 2</td><td>PH08: Ability to analyze elementary DC and AC circuits,</td></tr><tr><th>27</th><td>Courses 6: Physics 2</td><td>PH09: Understand electromagnetic waves and Maxwell's equations.</td></tr><tr><th>28</th><td>Course 7: Circuit 1</td><td>EE01: Understand ideal basic circuit elements, power, and energy</td></tr><tr><th>29</th><td>Course 7: Circuit 1</td><td>EE02: Ability to construct basic electrical circuits, and apply Omh's law and Kirchhoff's laws</td></tr><tr><th>30</th><td>Course 7: Circuit 1</td><td>EE03: Ability to analyze simple resistive circuits, voltage divider circuits, and current-divider circuits</td></tr><tr><th>&vellip;</th><td>&vellip;</td><td>&vellip;</td></tr></tbody></table>"
      ],
      "text/latex": [
       "\\begin{tabular}{r|ccc}\n",
       "\t& Courses & LO & \\\\\n",
       "\t\\hline\n",
       "\t& String & String & \\\\\n",
       "\t\\hline\n",
       "\t1 & Course 1: Precalculus & MA01: Analyzing and interpreting the structure of polynomial, rational, and exponential functions. & $\\dots$ \\\\\n",
       "\t2 & Course 1: Precalculus & MA02: Exploring mathematical reasoning used in trigonometric functions. & $\\dots$ \\\\\n",
       "\t3 & Course 1: Precalculus & MA03: Demonstrating and understanding of matrices and solving systems using matrix equations. & $\\dots$ \\\\\n",
       "\t4 & Course 1: Precalculus & MA04: Exploring and calculating theoretical probabilities and developing a probability distribution for a random variable. & $\\dots$ \\\\\n",
       "\t5 & Course 1: Precalculus & MA05: Classifying conic equations and constructing graphs of conic sections. & $\\dots$ \\\\\n",
       "\t6 & Course 2: Calculus 1 & MA06: Use derivatives to analyze and graph algebraic and transcendental functions & $\\dots$ \\\\\n",
       "\t7 & Course 2: Calculus 1 & MA07: Select and apply models and differentiation techniques to applications  & $\\dots$ \\\\\n",
       "\t8 & Course 2: Calculus 1 & MA08: Apply the Fundamental Theorem of Calculus to evaluate integrals & $\\dots$ \\\\\n",
       "\t9 & Course 2: Calculus 1 & MA09: Use estimation techniques to approximate rates of change, area, and total change & $\\dots$ \\\\\n",
       "\t10 & Course 3: Calculus 2 & MA10: Use techniques of analytical and numerical integration; & $\\dots$ \\\\\n",
       "\t11 & Course 3: Calculus 2 & MA11: Apply the definite integral to problems arising in geometry and in either physics or probability & $\\dots$ \\\\\n",
       "\t12 & Course 3: Calculus 2 & MA12: Work with the concept of infinite series and be able to calculate and use Taylor series & $\\dots$ \\\\\n",
       "\t13 & Course 3: Calculus 2 & MA13: Analyze first order differential equations from a graphical and algebraic point of view & $\\dots$ \\\\\n",
       "\t14 & Course 4: Differential Equation & MA14: Explain the concept of differential equation & $\\dots$ \\\\\n",
       "\t15 & Course 4: Differential Equation & MA15: Solve first-order ordinary differential equations & $\\dots$ \\\\\n",
       "\t16 & Course 4: Differential Equation & MA16: Find solution of higher-order linear differential equations.  & $\\dots$ \\\\\n",
       "\t17 & Course 4: Differential Equation & MA17: Solve systems of linear differential equations.  & $\\dots$ \\\\\n",
       "\t18 & Course 4: Differential Equation & MA18: Use the Laplace transform in finding the solution of linear differential equations.  & $\\dots$ \\\\\n",
       "\t19 & Courses 5: Physics 1 & PH01: Understand the concepts, laws, and principles used in mechanics and generate associations & $\\dots$ \\\\\n",
       "\t20 & Courses 5: Physics 1 & PH02: Understand different type of energy and be able to analyze related parameters in a motion system & $\\dots$ \\\\\n",
       "\t21 & Courses 5: Physics 1 & PH03: Use fundamental physical principles to understand how everyday objects work. & $\\dots$ \\\\\n",
       "\t22 & Courses 5: Physics 1 & PH04: Understand and analyze typical periodic motion system & $\\dots$ \\\\\n",
       "\t23 & Courses 6: Physics 2 & PH05: Understand Coulomb's and Gauss' Laws & $\\dots$ \\\\\n",
       "\t24 & Courses 6: Physics 2 & PH06: Basic understanding of electric fields and potentials, electrical and magnetic properties of matter & $\\dots$ \\\\\n",
       "\t25 & Courses 6: Physics 2 & PH07: Use of Ampere's and Faraday's Laws to understand induced electromotive forces & $\\dots$ \\\\\n",
       "\t26 & Courses 6: Physics 2 & PH08: Ability to analyze elementary DC and AC circuits, & $\\dots$ \\\\\n",
       "\t27 & Courses 6: Physics 2 & PH09: Understand electromagnetic waves and Maxwell's equations. & $\\dots$ \\\\\n",
       "\t28 & Course 7: Circuit 1 & EE01: Understand ideal basic circuit elements, power, and energy & $\\dots$ \\\\\n",
       "\t29 & Course 7: Circuit 1 & EE02: Ability to construct basic electrical circuits, and apply Omh's law and Kirchhoff's laws & $\\dots$ \\\\\n",
       "\t30 & Course 7: Circuit 1 & EE03: Ability to analyze simple resistive circuits, voltage divider circuits, and current-divider circuits & $\\dots$ \\\\\n",
       "\t$\\dots$ & $\\dots$ & $\\dots$ &  \\\\\n",
       "\\end{tabular}\n"
      ],
      "text/plain": [
       "38×5 DataFrame. Omitted printing of 4 columns\n",
       "│ Row │ Courses               │\n",
       "│     │ \u001b[90mString\u001b[39m                │\n",
       "├─────┼───────────────────────┤\n",
       "│ 1   │ Course 1: Precalculus │\n",
       "│ 2   │ Course 1: Precalculus │\n",
       "│ 3   │ Course 1: Precalculus │\n",
       "│ 4   │ Course 1: Precalculus │\n",
       "│ 5   │ Course 1: Precalculus │\n",
       "│ 6   │ Course 2: Calculus 1  │\n",
       "│ 7   │ Course 2: Calculus 1  │\n",
       "│ 8   │ Course 2: Calculus 1  │\n",
       "│ 9   │ Course 2: Calculus 1  │\n",
       "│ 10  │ Course 3: Calculus 2  │\n",
       "⋮\n",
       "│ 28  │ Course 7: Circuit 1   │\n",
       "│ 29  │ Course 7: Circuit 1   │\n",
       "│ 30  │ Course 7: Circuit 1   │\n",
       "│ 31  │ Course 7: Circuit 1   │\n",
       "│ 32  │ Course 7: Circuit 1   │\n",
       "│ 33  │ Course 7: Circuit 1   │\n",
       "│ 34  │ Course 8: Circuit 2   │\n",
       "│ 35  │ Course 8: Circuit 2   │\n",
       "│ 36  │ Course 8: Circuit 2   │\n",
       "│ 37  │ Course 8: Circuit 2   │\n",
       "│ 38  │ Course 8: Circuit 2   │"
      ]
     },
     "execution_count": 67,
     "metadata": {},
     "output_type": "execute_result"
    }
   ],
   "source": [
    "# check it\n",
    "new_df = DataFrame(CSV.File(\"./Cleaned_ECE.csv\"))"
   ]
  },
  {
   "cell_type": "code",
   "execution_count": null,
   "id": "0f693a39",
   "metadata": {},
   "outputs": [],
   "source": []
  }
 ],
 "metadata": {
  "kernelspec": {
   "display_name": "Julia 1.8.5",
   "language": "julia",
   "name": "julia-1.8"
  },
  "language_info": {
   "file_extension": ".jl",
   "mimetype": "application/julia",
   "name": "julia",
   "version": "1.8.5"
  }
 },
 "nbformat": 4,
 "nbformat_minor": 5
}
